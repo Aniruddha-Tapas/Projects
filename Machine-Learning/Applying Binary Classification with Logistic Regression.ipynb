{
 "cells": [
  {
   "cell_type": "markdown",
   "metadata": {},
   "source": [
    "# Applying Binary Classification with Logistic Regression\n",
    "\n",
    "___"
   ]
  },
  {
   "cell_type": "markdown",
   "metadata": {},
   "source": [
    "## The Problem : Spam Classification\n",
    "Here we will discuss generalizing linear regression to support classification tasks. We combine a model called\n",
    "logistic regression with some of the feature engineering techniques to create a spam filter\n",
    "\n",
    "We will extract TF-IDF features from the messages using Feature Extraction and Preprocessing techniques, and classify the spam and ham messages using logistic regression."
   ]
  },
  {
   "cell_type": "markdown",
   "metadata": {},
   "source": [
    "## The Data Set: \n",
    "We will use the SMS Spam Classification Data Set from the UCI Machine Learning Repository. The dataset can be downloaded from http://archive.ics.uci.edu/ml/datasets/SMS+Spam+Collection.\n",
    "\n",
    "This SMS Spam Collection is a public set of SMS labeled messages that have been collected for mobile phone spam research.\n",
    "\n"
   ]
  },
  {
   "cell_type": "markdown",
   "metadata": {},
   "source": [
    "## Exploring the Data using Pandas"
   ]
  },
  {
   "cell_type": "code",
   "execution_count": 2,
   "metadata": {
    "collapsed": false
   },
   "outputs": [
    {
     "name": "stdout",
     "output_type": "stream",
     "text": [
      "      0                                                  1\n",
      "0   ham  Go until jurong point, crazy.. Available only ...\n",
      "1   ham                      Ok lar... Joking wif u oni...\n",
      "2  spam  Free entry in 2 a wkly comp to win FA Cup fina...\n",
      "3   ham  U dun say so early hor... U c already then say...\n",
      "4   ham  Nah I don't think he goes to usf, he lives aro...\n"
     ]
    }
   ],
   "source": [
    "import pandas as pd\n",
    "df = pd.read_csv('datasets/SMSSpamCollection', delimiter='\\t', header=None)\n",
    "print df.head()"
   ]
  },
  {
   "cell_type": "code",
   "execution_count": 3,
   "metadata": {
    "collapsed": false
   },
   "outputs": [
    {
     "name": "stdout",
     "output_type": "stream",
     "text": [
      "Number of spam messages: 747\n",
      "Number of ham messages: 4825\n"
     ]
    }
   ],
   "source": [
    "print 'Number of spam messages:', df[df[0] == 'spam'][0].count()\n",
    "print 'Number of ham messages:', df[df[0] == 'ham'][0].count()\n",
    "#The ham messages are labeled with zero, and the spam messages are labeled with one."
   ]
  },
  {
   "cell_type": "markdown",
   "metadata": {},
   "source": [
    "## Using scikit-learn's LogisticRegression class to predict spam:"
   ]
  },
  {
   "cell_type": "code",
   "execution_count": 4,
   "metadata": {
    "collapsed": true
   },
   "outputs": [],
   "source": [
    "import numpy as np\n",
    "import pandas as pd\n",
    "from sklearn.feature_extraction.text import TfidfVectorizer\n",
    "from sklearn.linear_model.logistic import LogisticRegression\n",
    "from sklearn.cross_validation import train_test_split, cross_val_score"
   ]
  },
  {
   "cell_type": "code",
   "execution_count": 5,
   "metadata": {
    "collapsed": false
   },
   "outputs": [],
   "source": [
    "# Splitting the data into train-set and test-set\n",
    "# train_test_split() assigns 75 percent of the samples to the training set and allocates the remaining 25 percent of the samples to the test set.\n",
    "X_train_raw, X_test_raw, y_train, y_test = train_test_split(df[1], df[0])"
   ]
  },
  {
   "cell_type": "markdown",
   "metadata": {},
   "source": [
    "## Feature Extraction and Preprocessing\n",
    "CountVectorizer: converts the characters in the documents to lowercase, and tokenizes the documents i.e. splits a string into tokens, or meaningful sequences of characters (which may include punctuation characters and affixes). The CountVectorizer class tokenizes using a regular expression that splits strings on whitespace and extracts sequences of characters that are two or more characters in length.\n",
    "\n",
    "However using CountVectorizer to create feature vectors, any words might appear with the same frequency in two documents, but the documents to be examined could still be dissimilar, if one document is many times larger than\n",
    "the other. \n",
    "scikit-learn's TfdfTransformer object can assess this problem by transforming a matrix of term frequency vectors into a matrix of normalized term frequency weights.\n",
    "\n",
    "A term's TF-IDF value is the product of its term frequency and inverse document frequency (measure of how rare or common a word is in a corpus). TfidfTransformer returns TF-IDF's weight when its use_idf keyword argument is set to its default value, True. Since TF-IDF weighted feature vectors are commonly used to represent text, scikit-learn provides a TfidfVectorizer class that wraps CountVectorizer and TfidfTransformer."
   ]
  },
  {
   "cell_type": "markdown",
   "metadata": {},
   "source": [
    "## Creating a TfidfVectorizer:\n",
    "We fit it with the training messages, and transform both the training and test messages:"
   ]
  },
  {
   "cell_type": "code",
   "execution_count": 6,
   "metadata": {
    "collapsed": false
   },
   "outputs": [],
   "source": [
    "vectorizer = TfidfVectorizer()\n",
    "\n",
    "X_train = vectorizer.fit_transform(X_train_raw)\n",
    "X_test = vectorizer.transform(X_test_raw)"
   ]
  },
  {
   "cell_type": "code",
   "execution_count": 7,
   "metadata": {
    "collapsed": false
   },
   "outputs": [],
   "source": [
    "# Finally, we create an instance of LogisticRegression and train our model.\n",
    "# Like LinearRegression, LogisticRegression implements the fit() and predict() methods. \n",
    "# As a sanity check, we printed a few predictions for manual inspection:\n",
    "\n",
    "classifier = LogisticRegression()\n",
    "classifier.fit(X_train, y_train)\n",
    "predictions = classifier.predict(X_test)"
   ]
  },
  {
   "cell_type": "code",
   "execution_count": 8,
   "metadata": {
    "collapsed": false
   },
   "outputs": [
    {
     "name": "stdout",
     "output_type": "stream",
     "text": [
      "Prediction: ham. Message: She.s good. She was wondering if you wont say hi but she.s smiling now. So how are you coping with the long distance\n",
      "Prediction: ham. Message: Oh god. I'm gonna Google nearby cliffs now.\n",
      "Prediction: ham. Message: Boy you best get yo ass out here quick\n",
      "Prediction: ham. Message: If you're not in my car in an hour and a half I'm going apeshit\n",
      "Prediction: ham. Message: Got what it takes 2 take part in the WRC Rally in Oz? U can with Lucozade Energy! Text RALLY LE to 61200 (25p), see packs or lucozade.co.uk/wrc & itcould be u!\n"
     ]
    }
   ],
   "source": [
    "for i, prediction in enumerate(predictions[:5]):\n",
    "    print 'Prediction: %s. Message: %s' % (prediction, X_test_raw.iloc[i])"
   ]
  },
  {
   "cell_type": "markdown",
   "metadata": {},
   "source": [
    "## Measuring our classifier using Binary classification performance metrics\n",
    "A variety of metrics exist to evaluate the performance of binary classifiers against\n",
    "trusted labels. The most common metrics are accuracy, precision, recall, F1 measure,\n",
    "and ROC AUC score. All of these measures depend on the concepts of true positives,\n",
    "true negatives, false positives, and false negatives. Positive and negative refer to the\n",
    "classes. True and false denote whether the predicted class is the same as the true class.\n",
    "\n",
    "For our SMS spam classifier, a true positive prediction is when the classifier correctly\n",
    "predicts that a message is spam. A true negative prediction is when the classifier\n",
    "correctly predicts that a message is ham. A prediction that a ham message is spam\n",
    "is a false positive prediction, and a spam message incorrectly classified as ham is a\n",
    "false negative prediction. A confusion matrix, or contingency table, can be used to\n",
    "visualize true and false positives and negatives. The rows of the matrix are the true\n",
    "classes of the instances, and the columns are the predicted classes of the instances:"
   ]
  },
  {
   "cell_type": "code",
   "execution_count": 9,
   "metadata": {
    "collapsed": false
   },
   "outputs": [],
   "source": [
    "from sklearn.metrics import confusion_matrix\n",
    "import matplotlib.pyplot as plt\n",
    "%matplotlib inline"
   ]
  },
  {
   "cell_type": "code",
   "execution_count": 10,
   "metadata": {
    "collapsed": false
   },
   "outputs": [
    {
     "name": "stdout",
     "output_type": "stream",
     "text": [
      "[[4 1]\n",
      " [2 3]]\n"
     ]
    },
    {
     "data": {
      "image/png": "[encoded data removed]",
      "text/plain": [
       "<matplotlib.figure.Figure at 0x1d240f98>"
      ]
     },
     "metadata": {},
     "output_type": "display_data"
    }
   ],
   "source": [
    "y_test = [0, 0, 0, 0, 0, 1, 1, 1, 1, 1]\n",
    "y_pred = [0, 1, 0, 0, 0, 0, 0, 1, 1, 1]\n",
    "confusion_matrix = confusion_matrix(y_test, y_pred)\n",
    "print(confusion_matrix)\n",
    "plt.matshow(confusion_matrix)\n",
    "plt.title('Confusion matrix')\n",
    "plt.colorbar()\n",
    "plt.ylabel('True label')\n",
    "plt.xlabel('Predicted label')\n",
    "plt.show()"
   ]
  },
  {
   "cell_type": "markdown",
   "metadata": {},
   "source": [
    "The confusion matrix indicates that there were four true negative predictions, three\n",
    "true positive predictions, two false negative predictions, and one false positive\n",
    "prediction."
   ]
  },
  {
   "cell_type": "markdown",
   "metadata": {},
   "source": [
    "## Measuring accuracy of our classifier : "
   ]
  },
  {
   "cell_type": "code",
   "execution_count": 11,
   "metadata": {
    "collapsed": false
   },
   "outputs": [
    {
     "name": "stdout",
     "output_type": "stream",
     "text": [
      "Accuracy: 0.5\n"
     ]
    }
   ],
   "source": [
    "#Accuracy measures a fraction of the classifier's predictions that are correct.\n",
    "#scikit-learn provides a function accuracy_score() to calculate the accuracy of a set of predictions given the correct labels:\n",
    "\n",
    "from sklearn.metrics import accuracy_score\n",
    "y_pred, y_true = [0, 1, 1, 0], [1, 1, 1, 1]\n",
    "print 'Accuracy:', accuracy_score(y_true, y_pred)"
   ]
  },
  {
   "cell_type": "markdown",
   "metadata": {},
   "source": [
    "### LogisticRegression.score() predicts and scores labels for a test set using accuracy. Let's evaluate our classifier's accuracy:"
   ]
  },
  {
   "cell_type": "code",
   "execution_count": 12,
   "metadata": {
    "collapsed": false
   },
   "outputs": [
    {
     "name": "stdout",
     "output_type": "stream",
     "text": [
      "0.957176701116 [ 0.96057348  0.95937873  0.94736842  0.95688623  0.96167665]\n"
     ]
    }
   ],
   "source": [
    "import numpy as np\n",
    "import pandas as pd\n",
    "from sklearn.feature_extraction.text import TfidfVectorizer\n",
    "from sklearn.linear_model.logistic import LogisticRegression\n",
    "from sklearn.cross_validation import train_test_split, cross_val_score\n",
    "df = pd.read_csv('datasets/sms.csv')\n",
    "X_train_raw, X_test_raw, y_train, y_test = train_test_split(df['message'], df['label'])\n",
    "vectorizer = TfidfVectorizer()\n",
    "X_train = vectorizer.fit_transform(X_train_raw)\n",
    "X_test = vectorizer.transform(X_test_raw)\n",
    "classifier = LogisticRegression()\n",
    "classifier.fit(X_train, y_train)\n",
    "scores = cross_val_score(classifier, X_train, y_train, cv=5)\n",
    "print np.mean(scores), scores"
   ]
  },
  {
   "cell_type": "markdown",
   "metadata": {},
   "source": [
    "___\n",
    "\n",
    "While accuracy measures the overall correctness of the classifier, it does not distinguish between false positive errors and false negative errors. Some applications may be more sensitive to false negatives than false positives, or vice\n",
    "versa. Furthermore, accuracy is not an informative metric if the proportions of the classes are skewed in the population. For example, a classifier that predicts whether or not credit card transactions are fraudulent may be more sensitive to\n",
    "false negatives than to false positives.\n",
    "\n",
    "A classifier that always predicts that transactions are legitimate could have a high accuracy score, but would not be useful. For these reasons, classifiers are often evaluated using two additional measures called precision and recall.\n",
    "___"
   ]
  },
  {
   "cell_type": "markdown",
   "metadata": {
    "collapsed": true
   },
   "source": [
    "## Precision and Recall:\n",
    "Precision is the\n",
    "fraction of positive predictions that are correct. For instance, in our SMS spam\n",
    "classifier, precision is the fraction of messages classified as spam that are actually\n",
    "spam. "
   ]
  },
  {
   "cell_type": "markdown",
   "metadata": {},
   "source": [
    "Precision is given by the following ratio:\n",
    "####                                                     P = TP / (TP + FP) "
   ]
  },
  {
   "cell_type": "markdown",
   "metadata": {},
   "source": [
    "Sometimes called sensitivity in medical domains, recall is the fraction of the truly\n",
    "positive instances that the classifier recognizes. A recall score of one indicates\n",
    "that the classifier did not make any false negative predictions. For our SMS spam\n",
    "classifier, recall is the fraction of spam messages that were truly classified as spam."
   ]
  },
  {
   "cell_type": "markdown",
   "metadata": {},
   "source": [
    "Recall is calculated with the following ratio:\n",
    "#### R = TP / (TP + FN)"
   ]
  },
  {
   "cell_type": "markdown",
   "metadata": {},
   "source": [
    "Individually, precision and recall are seldom informative; they are both incomplete\n",
    "views of a classifier's performance. Both precision and recall can fail to distinguish\n",
    "classifiers that perform well from certain types of classifiers that perform poorly. A\n",
    "trivial classifier could easily achieve a perfect recall score by predicting positive for\n",
    "every instance. For example, assume that a test set contains ten positive examples\n",
    "and ten negative examples. "
   ]
  },
  {
   "cell_type": "markdown",
   "metadata": {},
   "source": [
    "A classifier that predicts positive for every example will\n",
    "achieve a recall of one, as follows:\n",
    "#### R = 10 / (10 + 0) = 1"
   ]
  },
  {
   "cell_type": "markdown",
   "metadata": {},
   "source": [
    "A classifier that predicts negative for every example, or that makes only false positive\n",
    "and true negative predictions, will achieve a recall score of zero. Similarly, a classifier\n",
    "that predicts that only a single instance is positive and happens to be correct will\n",
    "achieve perfect precision."
   ]
  },
  {
   "cell_type": "markdown",
   "metadata": {},
   "source": [
    "Scikit-learn provides a function to calculate the precision and recall for a classifier\n",
    "from a set of predictions and the corresponding set of trusted labels. \n",
    "\n",
    "### Calculating our SMS classifier's precision and recall:"
   ]
  },
  {
   "cell_type": "code",
   "execution_count": 13,
   "metadata": {
    "collapsed": false
   },
   "outputs": [
    {
     "name": "stdout",
     "output_type": "stream",
     "text": [
      "Precision 0.987825497288 [ 1.          0.9875      1.          0.96428571  0.98734177]\n",
      "Recalls 0.705397301349 [ 0.71551724  0.68103448  0.74782609  0.70434783  0.67826087]\n"
     ]
    }
   ],
   "source": [
    "import numpy as np\n",
    "import pandas as pd\n",
    "from sklearn.feature_extraction.text import TfidfVectorizer\n",
    "from sklearn.linear_model.logistic import LogisticRegression\n",
    "from sklearn.cross_validation import train_test_split, cross_val_score\n",
    "df = pd.read_csv('datasets/sms.csv')\n",
    "X_train_raw, X_test_raw, y_train, y_test = train_test_split(df['message'], df['label'])\n",
    "vectorizer = TfidfVectorizer()\n",
    "X_train = vectorizer.fit_transform(X_train_raw)\n",
    "X_test = vectorizer.transform(X_test_raw)\n",
    "classifier = LogisticRegression()\n",
    "classifier.fit(X_train, y_train)\n",
    "precisions = cross_val_score(classifier, X_train, y_train, cv=5,scoring='precision')\n",
    "print 'Precision', np.mean(precisions), precisions\n",
    "recalls = cross_val_score(classifier, X_train, y_train, cv=5,scoring='recall')\n",
    "print 'Recalls', np.mean(recalls), recalls"
   ]
  },
  {
   "cell_type": "markdown",
   "metadata": {},
   "source": [
    "Our classifier's precision is 0.992; almost all of the messages that it predicted as\n",
    "spam were actually spam. Its recall is lower, indicating that it incorrectly classified\n",
    "approximately 22 percent of the spam messages as ham.\n",
    "\n",
    "___"
   ]
  },
  {
   "cell_type": "markdown",
   "metadata": {},
   "source": [
    "## Calculating the F1 measure"
   ]
  },
  {
   "cell_type": "markdown",
   "metadata": {},
   "source": [
    "The F1 measure is the harmonic mean, or weighted average, of the precision and\n",
    "recall scores. Also called the f-measure or the f-score, the F1 score is calculated using\n",
    "the following formula:\n",
    "\n",
    "#### F1 = 2PR / (P + R)"
   ]
  },
  {
   "cell_type": "markdown",
   "metadata": {},
   "source": [
    "The F1 measure penalizes classifiers with imbalanced precision and recall scores,\n",
    "like the trivial classifier that always predicts the positive class. A model with perfect\n",
    "precision and recall scores will achieve an F1 score of one. A model with a perfect\n",
    "precision score and a recall score of zero will achieve an F1 score of zero. As for\n",
    "precision and recall, scikit-learn provides a function to calculate the F1 score for\n",
    "a set of predictions. Let's compute our classifier's F1 score."
   ]
  },
  {
   "cell_type": "code",
   "execution_count": 14,
   "metadata": {
    "collapsed": false
   },
   "outputs": [
    {
     "name": "stdout",
     "output_type": "stream",
     "text": [
      "F1 0.822841751877 [ 0.83417085  0.80612245  0.85572139  0.81407035  0.80412371]\n"
     ]
    }
   ],
   "source": [
    "f1s = cross_val_score(classifier, X_train, y_train, cv=5, scoring='f1')\n",
    "print 'F1', np.mean(f1s), f1s"
   ]
  },
  {
   "cell_type": "markdown",
   "metadata": {},
   "source": [
    "The arithmetic mean of our classifier's precision and recall scores is 0.804. As the\n",
    "difference between the classifier's precision and recall is small, the F1 measure's\n",
    "penalty is small. Models are sometimes evaluated using the F0.5 and F2 scores,\n",
    "which favor precision over recall and recall over precision, respectively."
   ]
  },
  {
   "cell_type": "markdown",
   "metadata": {},
   "source": [
    "## ROC AUC\n",
    "A Receiver Operating Characteristic, or ROC curve, visualizes a classifier's performance. Unlike accuracy, the ROC curve is insensitive to data sets with unbalanced class proportions; unlike precision and recall, the ROC curve illustrates the classifier's performance for all values of the discrimination threshold. ROC curves plot the classifier's recall against its fall-out. Fall-out, or the false positive rate, is the number of false positives divided by the total number of negatives. It is\n",
    "calculated using the following formula:\n",
    "#### F = FP / (TN + FP)\n",
    "____"
   ]
  },
  {
   "cell_type": "markdown",
   "metadata": {},
   "source": [
    "### Plotting the ROC curve for our SMS spam classifier:"
   ]
  },
  {
   "cell_type": "code",
   "execution_count": 15,
   "metadata": {
    "collapsed": false
   },
   "outputs": [
    {
     "data": {
      "image/png": "[encoded data removed]",
      "text/plain": [
       "<matplotlib.figure.Figure at 0x1d8ae2e8>"
      ]
     },
     "metadata": {},
     "output_type": "display_data"
    }
   ],
   "source": [
    "import numpy as np\n",
    "import pandas as pd\n",
    "import matplotlib.pyplot as plt\n",
    "from sklearn.feature_extraction.text import TfidfVectorizer\n",
    "from sklearn.linear_model.logistic import LogisticRegression\n",
    "from sklearn.cross_validation import train_test_split, cross_val_score\n",
    "from sklearn.metrics import roc_curve, auc\n",
    "df = pd.read_csv('datasets/sms.csv')\n",
    "X_train_raw, X_test_raw, y_train, y_test = train_test_split(df['message'], df['label'])\n",
    "vectorizer = TfidfVectorizer()\n",
    "\n",
    "X_train = vectorizer.fit_transform(X_train_raw)\n",
    "X_test = vectorizer.transform(X_test_raw)\n",
    "classifier = LogisticRegression()\n",
    "classifier.fit(X_train, y_train)\n",
    "predictions = classifier.predict_proba(X_test)\n",
    "\n",
    "false_positive_rate, recall, thresholds = roc_curve(y_test, predictions[:, 1])\n",
    "roc_auc = auc(false_positive_rate, recall)\n",
    "plt.title('Receiver Operating Characteristic')\n",
    "plt.plot(false_positive_rate, recall, 'b', label='AUC = %0.2f' % roc_auc)\n",
    "plt.legend(loc='lower right')\n",
    "\n",
    "plt.plot([0, 1], [0, 1], 'r--')\n",
    "plt.xlim([0.0, 1.0])\n",
    "plt.ylim([0.0, 1.0])\n",
    "plt.ylabel('Recall')\n",
    "plt.xlabel('Fall-out')\n",
    "plt.show()"
   ]
  },
  {
   "cell_type": "markdown",
   "metadata": {},
   "source": [
    "From the ROC AUC plot, it is apparent that our classifier outperforms random\n",
    "guessing; most of the plot area lies under its curve.\n",
    "___"
   ]
  },
  {
   "cell_type": "markdown",
   "metadata": {
    "collapsed": true
   },
   "source": [
    "## Summary:\n",
    "Thus logistic regression is a generalized linear model that uses the logistic\n",
    "link function to relate explanatory variables to a Bernoulli-distributed response\n",
    "variable. Logistic regression can be used for binary classification, a task in which an\n",
    "instance must be assigned to one of the two classes. Here we used logistic regression to\n",
    "classify spam and ham SMS messages."
   ]
  },
  {
   "cell_type": "code",
   "execution_count": null,
   "metadata": {
    "collapsed": true
   },
   "outputs": [],
   "source": []
  }
 ],
 "metadata": {
  "kernelspec": {
   "display_name": "Python 2",
   "language": "python",
   "name": "python2"
  },
  "language_info": {
   "codemirror_mode": {
    "name": "ipython",
    "version": 2
   },
   "file_extension": ".py",
   "mimetype": "text/x-python",
   "name": "python",
   "nbconvert_exporter": "python",
   "pygments_lexer": "ipython2",
   "version": "2.7.11"
  }
 },
 "nbformat": 4,
 "nbformat_minor": 0
}
