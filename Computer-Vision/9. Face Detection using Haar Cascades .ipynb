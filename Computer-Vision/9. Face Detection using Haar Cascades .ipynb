{
 "cells": [
  {
   "cell_type": "markdown",
   "metadata": {},
   "source": [
    "# Face Detection using Haar Cascades\n",
    "___"
   ]
  },
  {
   "cell_type": "markdown",
   "metadata": {},
   "source": [
    "Here we're going to discuss an interesting and a classical application of Computer Vision: Object Detection.\n",
    "We'll do face and eye detection with OpenCV using Haar Cascades. In order to do object recognition/detection with cascade files, you first need cascade files. For the extremely popular tasks, these already exist. Detecting things like faces, eyes, smiles, cars, and license plates for example are all pretty popular and Haar Cascades of these are readily available.\n",
    "\n",
    "You can find such popular cascade files from https://github.com/Itseez/opencv/tree/master/data/haarcascades \n",
    "\n",
    "You can also use Google to find various Haar Cascades of things you may want to detect. We will use a Face cascade and Eye cascade. You can find a few more at the root directory of Haar cascades. Note the license for using/distributing these Haar Cascades.\n",
    "\n",
    "Now we are doing face and eye detection, and thus we need face and eye haar cascade files.\n",
    "\n",
    "You can download these files from: \n",
    "* https://github.com/Itseez/opencv/blob/master/data/haarcascades/haarcascade_frontalface_default.xml\n",
    "* https://github.com/Itseez/opencv/blob/master/data/haarcascades/haarcascade_eye.xml\n",
    "\n",
    "Just right click on raw and save the link in the same directory of your python file."
   ]
  },
  {
   "cell_type": "markdown",
   "metadata": {},
   "source": [
    "First we need to load the required XML classifiers. Then load our input image (or video) in grayscale mode."
   ]
  },
  {
   "cell_type": "code",
   "execution_count": null,
   "metadata": {
    "collapsed": false
   },
   "outputs": [],
   "source": [
    "import numpy as np\n",
    "import cv2\n",
    "\n",
    "face_cascade = cv2.CascadeClassifier('haarcascade_frontalface_default.xml')\n",
    "eye_cascade = cv2.CascadeClassifier('haarcascade_eye.xml')\n",
    "\n",
    "img = cv2.imread('ij.jpg')\n",
    "gray = cv2.cvtColor(img, cv2.COLOR_BGR2GRAY)"
   ]
  },
  {
   "cell_type": "markdown",
   "metadata": {},
   "source": [
    "Now we find the faces in the image. If faces are found, it returns the positions of detected faces as Rect(x,y,w,h).\n",
    "The function _detectMultiScale()_ basically finds faces in the images. You can find the full description on how the cascade classifier works, here: http://docs.opencv.org/2.4/modules/objdetect/doc/cascade_classification.html\n",
    "\n",
    "Once we get these locations, we can create a ROI for the face and apply eye detection on this ROI (since eyes are always on the face! ).\n",
    "Most eye detection uses the surrounding skin, eye lids, eye lashes, and eye brows to also make the detection.\n",
    "Thus, our next step is to break down the faces first, before getting to the eyes:\n"
   ]
  },
  {
   "cell_type": "code",
   "execution_count": null,
   "metadata": {
    "collapsed": true
   },
   "outputs": [],
   "source": [
    "faces = face_cascade.detectMultiScale(gray, 1.3, 5)\n",
    "\n",
    "# break down the faces first, before getting to the eyes:\n",
    "\n",
    "for (x,y,w,h) in faces:\n",
    "    cv2.rectangle(img,(x,y),(x+w,y+h),(255,0,0),2)\n",
    "    roi_gray = gray[y:y+h, x:x+w]\n",
    "    roi_color = img[y:y+h, x:x+w]\n",
    "\n",
    "    # Here, we're finding faces, their sizes, drawing rectangles, and noting the ROI.\n",
    "    \n",
    "\n",
    "    eyes = eye_cascade.detectMultiScale(roi_gray)\n",
    "\n",
    "    # If we find those, we'll go ahead and make some more rectangles.\n",
    "    for (ex,ey,ew,eh) in eyes:\n",
    "        cv2.rectangle(roi_color,(ex,ey),(ex+ew,ey+eh),(0,255,0),2)\n",
    "    \n",
    "cv2.imshow('img',img)"
   ]
  },
  {
   "cell_type": "markdown",
   "metadata": {},
   "source": [
    "**The Complete Code:**"
   ]
  },
  {
   "cell_type": "code",
   "execution_count": null,
   "metadata": {
    "collapsed": false
   },
   "outputs": [],
   "source": [
    "import numpy as np\n",
    "import cv2\n",
    "\n",
    "face_cascade = cv2.CascadeClassifier('haarcascade_frontalface_default.xml')\n",
    "eye_cascade = cv2.CascadeClassifier('haarcascade_eye.xml')\n",
    "\n",
    "\n",
    "img = cv2.imread('ij.jpg')\n",
    "#ret, img = cap.read()\n",
    "gray = cv2.cvtColor(img, cv2.COLOR_BGR2GRAY)\n",
    "faces = face_cascade.detectMultiScale(gray, 1.3, 5)\n",
    "\n",
    "    # break down the faces first, before getting to the eyes:\n",
    "\n",
    "for (x,y,w,h) in faces:\n",
    "    cv2.rectangle(img,(x,y),(x+w,y+h),(255,0,0),2)\n",
    "    roi_gray = gray[y:y+h, x:x+w]\n",
    "    roi_color = img[y:y+h, x:x+w]\n",
    "\n",
    "        # Here, we're finding faces, their sizes, drawing rectangles, and noting the ROI.\n",
    "        # Next, we poke around for some eyes:\n",
    "\n",
    "    eyes = eye_cascade.detectMultiScale(roi_gray)\n",
    "        # If we find those, we'll go ahead and make some more rectangles.\n",
    "    for (ex,ey,ew,eh) in eyes:\n",
    "        cv2.rectangle(roi_color,(ex,ey),(ex+ew,ey+eh),(0,255,0),2)\n",
    "    \n",
    "cv2.imshow('img',img)\n"
   ]
  },
  {
   "cell_type": "markdown",
   "metadata": {},
   "source": [
    "The resulting images with face and eyes detected would look like:\n",
    "<img src=\"captures/facedetection.png\">"
   ]
  },
  {
   "cell_type": "markdown",
   "metadata": {},
   "source": [
    "___\n",
    "Pretty cool right? :D \n",
    "\n",
    "However you might have noticed sometimes some eyes in your images might have been left out. Also sometimes mouths might also be detected pretty often as eyes. Facial hair and other things can often fool this basic face detection, and even advanced. Skin color can also cause trouble, as we often try to simplify images as much as possible, thus losing a lot of color values.\n",
    "\n",
    "This was about face and eye recognition.\n",
    "If you want to take a step futher you can actually train your own classifier for any object like car, planes etc. you can use OpenCV to create one. Its full details are given here: <a href=\"http://docs.opencv.org/3.0.0/dc/d88/tutorial_traincascade.html\">Cascade Classifier Training.</a>\n",
    "___\n"
   ]
  },
  {
   "cell_type": "code",
   "execution_count": null,
   "metadata": {
    "collapsed": true
   },
   "outputs": [],
   "source": []
  }
 ],
 "metadata": {
  "kernelspec": {
   "display_name": "Python 2",
   "language": "python",
   "name": "python2"
  },
  "language_info": {
   "codemirror_mode": {
    "name": "ipython",
    "version": 2
   },
   "file_extension": ".py",
   "mimetype": "text/x-python",
   "name": "python",
   "nbconvert_exporter": "python",
   "pygments_lexer": "ipython2",
   "version": "2.7.11"
  }
 },
 "nbformat": 4,
 "nbformat_minor": 0
}
