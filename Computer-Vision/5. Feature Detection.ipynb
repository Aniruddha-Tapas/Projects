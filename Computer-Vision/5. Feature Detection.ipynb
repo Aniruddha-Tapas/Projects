{
 "cells": [
  {
   "cell_type": "markdown",
   "metadata": {},
   "source": [
    "# Feature Detection and Description\n",
    "___\n",
    "\n",
    "_In computer vision and image processing the concept of feature detection refers to methods that aim at computing abstractions of image information and making local decisions at every image point whether there is an image feature of a given type at that point or not. The resulting features will be subsets of the image domain, often in the form of isolated points, continuous curves or connected regions._\n",
    "Feature detection can include detecting edges, some defined patches in the images, center or the corners of the image. Of these while Image Processing, the patches are flat and are difficut to track. As we move verticalling while processing then edges would change, from bottom edge to a left (or right upward edge). Hence these would be difficult to extract. Whereas while processing corners each patch of the corner to be processed would be different from eaach other and hence it would be easier to track. Blobs are another type of features which prove effective for extraction. "
   ]
  },
  {
   "cell_type": "markdown",
   "metadata": {},
   "source": [
    "___\n",
    "For finding these features, we look for the regions in images which have maximum variation when moved (by a small amount) in all regions around it. Finding these image features is called **Feature Detection**. Description of the region around the feature by the computer, so that it could find it in other images is called **Feature Description**.\n",
    "\n",
    "Below we will take a look at few of the techniques used for Feature Detection and Description mainly Corner Detections and Feature Matching. \n",
    "___"
   ]
  },
  {
   "cell_type": "markdown",
   "metadata": {},
   "source": [
    "## Corner Detection\n",
    "___\n",
    "\n",
    "### 1]  Harris Corner Detector in OpenCV:\n",
    "OpenCV has the function <a href=\"http://docs.opencv.org/3.0.0/dd/d1a/group__imgproc__feature.html#gac1fc3598018010880e370e2f709b4345\">cv2.cornerHarris()</a> for this purpose. Its arguments are :\n",
    "\n",
    "* img - Input image, it should be grayscale and float32 type.\n",
    "* blockSize - It is the size of neighbourhood considered for corner detection\n",
    "* ksize - Aperture parameter of Sobel derivative used.\n",
    "* k - Harris detector free parameter in the equation."
   ]
  },
  {
   "cell_type": "code",
   "execution_count": 1,
   "metadata": {
    "collapsed": true
   },
   "outputs": [],
   "source": [
    "import cv2\n",
    "import numpy as np\n",
    "filename = 'images/cube.png'\n",
    "img = cv2.imread(filename)\n",
    "gray = cv2.cvtColor(img,cv2.COLOR_BGR2GRAY)\n",
    "gray = np.float32(gray)\n",
    "dst = cv2.cornerHarris(gray,2,3,0.04)\n",
    "\n",
    "#result is dilated for marking the corners, not important\n",
    "dst = cv2.dilate(dst,None)\n",
    "\n",
    "# Threshold for an optimal value, it may vary depending on the image.\n",
    "img[dst>0.01*dst.max()]=[0,0,255]\n",
    "cv2.imshow('Corners',img)\n",
    "\n",
    "if cv2.waitKey(0) & 0xff == 27:\n",
    "    cv2.destroyAllWindows()"
   ]
  },
  {
   "cell_type": "markdown",
   "metadata": {},
   "source": [
    "I used an image of a cube. Feel free to test any image you like:\n",
    "\n",
    "<img  style=\"float:left;padding-left:40px;padding-right:40px;\" src=\"images/cube.png\"/> \n",
    "\n",
    "<img  style=\"float:left;padding-left:40px;padding-right:40px;\" src=\"captures/hc.png\" />"
   ]
  },
  {
   "cell_type": "markdown",
   "metadata": {},
   "source": [
    "### Corner with SubPixel Accuracy\n",
    "Sometimes, you may need to find the corners with maximum accuracy. OpenCV comes with a function <a href = \"http://docs.opencv.org/3.0.0/dd/d1a/group__imgproc__feature.html#ga354e0d7c86d0d9da75de9b9701a9a87e\">cv2.cornerSubPix()</a> which further refines the corners detected with sub-pixel accuracy.First we find the corners using the above <a href=\"#Corner-Detection\">Harris Corner Detector</a>. Then we pass the centroids of these corners to refine them. Harris corners are marked in red pixels and refined corners\n",
    "are marked in green pixels. For this function, we have to define the criteria when to stop the iteration. We stop it after\n",
    "a specified number of iteration or a certain accuracy is achieved, whichever occurs first. We also need to define the\n",
    "size of neighbourhood it would search for corners."
   ]
  },
  {
   "cell_type": "code",
   "execution_count": null,
   "metadata": {
    "collapsed": true
   },
   "outputs": [],
   "source": [
    "import cv2\n",
    "import numpy as np\n",
    "filename = 'images/cube.png'\n",
    "img = cv2.imread(filename)\n",
    "gray = cv2.cvtColor(img,cv2.COLOR_BGR2GRAY)\n",
    "\n",
    "# find Harris corners\n",
    "gray = np.float32(gray)\n",
    "dst = cv2.cornerHarris(gray,2,3,0.04)\n",
    "dst = cv2.dilate(dst,None)\n",
    "ret, dst = cv2.threshold(dst,0.01*dst.max(),255,0)\n",
    "dst = np.uint8(dst)\n",
    "\n",
    "# find centroids\n",
    "ret, labels, stats, centroids = cv2.connectedComponentsWithStats(dst)\n",
    "\n",
    "# define the criteria to stop and refine the corners\n",
    "criteria = (cv2.TERM_CRITERIA_EPS + cv2.TERM_CRITERIA_MAX_ITER, 100, 0.001)\n",
    "corners = cv2.cornerSubPix(gray,np.float32(centroids),(5,5),(-1,-1),criteria)\n",
    "\n",
    "# Now draw them\n",
    "res = np.hstack((centroids,corners))\n",
    "res = np.int0(res)\n",
    "img[res[:,1],res[:,0]]=[0,0,255]\n",
    "img[res[:,3],res[:,2]] = [0,0,255]\n",
    "\n",
    "cv2.imshow('Corners',img)\n"
   ]
  },
  {
   "cell_type": "markdown",
   "metadata": {},
   "source": [
    "The resulting image would look like: \n",
    "<img src=\"captures/corners2.png\">\n",
    "\n",
    "As you can see the corners are crisp and sharp.\n",
    "___"
   ]
  },
  {
   "cell_type": "markdown",
   "metadata": {},
   "source": [
    "### 2] Shi-Tomasi Corner Detector & Good Features to Track\n",
    "OpenCV has a function, <a href = \"http://docs.opencv.org/3.0.0/dd/d1a/group__imgproc__feature.html#ga1d6bb77486c8f92d79c8793ad995d541\">cv2.goodFeaturesToTrack()</a>. It finds N strongest corners in the image by Shi-Tomasi method (or Harris Corner Detection, if you specify it). As usual, image should be a grayscale image. Then you specify number of corners you want to find. Then you specify the quality level, which is a value between 0-1, which denotes the minimum quality of corner below which everyone is rejected. Then we provide the minimum euclidean distance between corners detected.\n",
    "\n",
    "With all these informations, the function finds corners in the image. All corners below quality level are rejected. Then it sorts the remaining corners based on quality in the descending order. Then function takes first strongest corner, throws away all the nearby corners in the range of minimum distance and returns N strongest corners.\n",
    "\n",
    "In below example, we will try to find 25 best corners:"
   ]
  },
  {
   "cell_type": "code",
   "execution_count": null,
   "metadata": {
    "collapsed": false
   },
   "outputs": [],
   "source": [
    "import numpy as np\n",
    "import cv2\n",
    "from matplotlib import pyplot as plt\n",
    "\n",
    "img = cv2.imread('images/shapes.jpg')\n",
    "gray = cv2.cvtColor(img,cv2.COLOR_BGR2GRAY)\n",
    "\n",
    "corners = cv2.goodFeaturesToTrack(gray,25,0.01,10)\n",
    "corners = np.int0(corners)\n",
    "\n",
    "for i in corners:\n",
    "    x,y = i.ravel()\n",
    "    cv2.circle(img,(x,y),3,255,-1)    \n",
    "\n",
    "plt.imshow(img),plt.show()"
   ]
  },
  {
   "cell_type": "markdown",
   "metadata": {},
   "source": [
    "The resulting image would look like:\n",
    "<img src=\"images/shitomasi_block1.jpg\">\n",
    "___"
   ]
  },
  {
   "cell_type": "markdown",
   "metadata": {},
   "source": [
    "##  SIFT (Scale-Invariant Feature Transform)\n",
    "___\n",
    "\n",
    "In last couple of chapters, we saw some corner detectors like Harris, Shi Tomasi etc. They are rotation-invariant, which means, even if the image is rotated, we can find the same corners. It is obvious because corners remain corners in rotated image also. But what about scaling? A corner may not be a corner if the image is scaled. A corner in a small image within a small window is flat when it is zoomed in the same window. So Harris corner is not scale invariant.\n",
    "\n",
    "There are mainly four steps involved in SIFT algorithm:\n",
    "1. Scale-space Extrema Detection: \n",
    "Due to scale-variance we can't use the same window to detect keypoints with different scale. It is OK with small corner. But to detect larger corners we need larger windows. For this, scale-space filtering is used. \n",
    "\n",
    "2. Keypoint Localization:\n",
    "Once potential keypoints locations are found, they have to be refined to get more accurate results. They used Taylor series expansion of scale space to get more accurate location of extrema, and if the intensity at this extrema is less than a threshold value (0.03 generally), it is rejected. This threshold is called contrastThreshold in OpenCV.\n",
    "\n",
    "3. Orientation Assignment:\n",
    "Now an orientation is assigned to each keypoint to achieve invariance to image rotation. A neigbourhood is taken around the keypoint location depending on the scale, and the gradient magnitude and direction is calculated in that region\n",
    "\n",
    "4. Keypoint Descriptor\n",
    "Now keypoint descriptor is created. A 16x16 neighbourhood around the keypoint is taken. It is devided into 16 sub-blocks of 4x4 size. For each sub-block, 8 bin orientation histogram is created. So a total of 128 bin values are available. It is represented as a vector to form keypoint descriptor. In addition to this, several measures are taken to achieve robustness against illumination changes, rotation etc.\n",
    "\n",
    "5. Keypoint Matching\n",
    "Keypoints between two images are matched by identifying their nearest neighbours. But in some cases, the second closest-match may be very near to the first. It may happen due to noise or some other reasons. In that case, ratio of closest-distance to second-closest distance is taken. If it is greater than 0.8, they are rejected. It eliminaters around 90% of false matches while discards only 5% correct matches.\n",
    "\n",
    "This is a summary of SIFT algorithm. For more details and understanding, reading the original paper is highly recommended. Now we'll see how SIFT can be implemented using OpenCV:"
   ]
  },
  {
   "cell_type": "code",
   "execution_count": null,
   "metadata": {
    "collapsed": false
   },
   "outputs": [],
   "source": [
    "import cv2\n",
    "import numpy as np\n",
    "img = cv2.imread('images/building.jpg')\n",
    "gray= cv2.cvtColor(img,cv2.COLOR_BGR2GRAY)\n",
    "sift = cv2.SIFT()\n",
    "kp = sift.detect(gray,None)\n",
    "img=cv2.drawKeypoints(gray,kp)\n",
    "cv2.imwrite('sift_keypoints.jpg',img)"
   ]
  },
  {
   "cell_type": "markdown",
   "metadata": {},
   "source": [
    "sift.detect() function finds the keypoint in the images. You can pass a mask if you want to search only a part of image. Each keypoint is a special structure which has many attributes like its (x,y) coordinates, size of the meaningful neighbourhood, angle which specifies its orientation, response that specifies strength of keypoints etc.\n",
    "\n",
    "OpenCV also provides cv2.drawKeyPoints() function which draws the small circles on the locations of keypoints. If you pass a flag, cv2.DRAW_MATCHES_FLAGS_DRAW_RICH_KEYPOINTS to it, it will draw a circle with size of keypoint and it will even show its orientation. See below example."
   ]
  },
  {
   "cell_type": "code",
   "execution_count": null,
   "metadata": {
    "collapsed": true
   },
   "outputs": [],
   "source": [
    "img=cv2.drawKeypoints(gray,kp,flags=cv2.DRAW_MATCHES_FLAGS_DRAW_RICH_KEYPOINTS)\n",
    "cv2.imwrite('sift_keypoints.jpg',img)"
   ]
  },
  {
   "cell_type": "markdown",
   "metadata": {},
   "source": [
    "The resulting image would look like:\n",
    "<img src=\"images/sift_keypoints.jpg\">"
   ]
  },
  {
   "cell_type": "markdown",
   "metadata": {},
   "source": [
    "Now to calculate the descriptor, OpenCV provides two methods.\n",
    "\n",
    "1. Since you already found keypoints, you can call sift.compute() which computes the descriptors from the keypoints we have found. Eg: kp,des = sift.compute(gray,kp)\n",
    "2. If you didn't find keypoints, directly find keypoints and descriptors in a single step with the function, sift.detectAndCompute().\n",
    "The second method is shown below:"
   ]
  },
  {
   "cell_type": "code",
   "execution_count": null,
   "metadata": {
    "collapsed": true
   },
   "outputs": [],
   "source": [
    "sift = cv2.SIFT()\n",
    "kp, des = sift.detectAndCompute(gray,None)"
   ]
  },
  {
   "cell_type": "markdown",
   "metadata": {},
   "source": [
    "___"
   ]
  },
  {
   "cell_type": "markdown",
   "metadata": {},
   "source": [
    "## SURF (Speeded-Up Robust Features)\n",
    "Implementing SIFT for Feature Detection and Description is quite slow and hence an update was required. The SURF (Speeded-Up Robust Features) provides this update. SURF adds a lot of features to improve the speed in every step. Analysis shows it is 3 times faster than SIFT while performance is comparable to SIFT. SURF is good at handling images with blurring and rotation, but not good at handling viewpoint change and illumination change.\n",
    "Below code shows implementation of SURF using OpenCV"
   ]
  },
  {
   "cell_type": "code",
   "execution_count": null,
   "metadata": {
    "collapsed": true
   },
   "outputs": [],
   "source": [
    "img = cv2.imread('fly.png',0)"
   ]
  },
  {
   "cell_type": "code",
   "execution_count": null,
   "metadata": {
    "collapsed": true
   },
   "outputs": [],
   "source": [
    "# Create SURF object. You can specify params here or later.\n",
    "# Here I set Hessian Threshold to 400\n",
    "surf = cv2.SURF(400)"
   ]
  },
  {
   "cell_type": "code",
   "execution_count": null,
   "metadata": {
    "collapsed": true
   },
   "outputs": [],
   "source": [
    "# Find keypoints and descriptors directly\n",
    "kp, des = surf.detectAndCompute(img,None)"
   ]
  },
  {
   "cell_type": "code",
   "execution_count": null,
   "metadata": {
    "collapsed": true
   },
   "outputs": [],
   "source": [
    "len(kp)"
   ]
  },
  {
   "cell_type": "markdown",
   "metadata": {},
   "source": [
    "699"
   ]
  },
  {
   "cell_type": "markdown",
   "metadata": {},
   "source": [
    "This much keypoints is too much to show in a picture. We reduce it to some 50 to draw it on an image. While matching, we may need all those features, but not now. So we increase the Hessian Threshold."
   ]
  },
  {
   "cell_type": "code",
   "execution_count": null,
   "metadata": {
    "collapsed": true
   },
   "outputs": [],
   "source": [
    "# Check present Hessian threshold\n",
    "print surf.hessianThreshold"
   ]
  },
  {
   "cell_type": "markdown",
   "metadata": {},
   "source": [
    "400"
   ]
  },
  {
   "cell_type": "code",
   "execution_count": null,
   "metadata": {
    "collapsed": true
   },
   "outputs": [],
   "source": [
    "# We set it to some 50000. Remember, it is just for representing in picture.\n",
    "# In actual cases, it is better to have a value 300-500\n",
    "surf.hessianThreshold = 50000"
   ]
  },
  {
   "cell_type": "code",
   "execution_count": null,
   "metadata": {
    "collapsed": true
   },
   "outputs": [],
   "source": [
    "# Again compute keypoints and check its number.\n",
    "kp, des = surf.detectAndCompute(img,None)\n",
    "print len(kp)"
   ]
  },
  {
   "cell_type": "markdown",
   "metadata": {},
   "source": [
    "47"
   ]
  },
  {
   "cell_type": "markdown",
   "metadata": {},
   "source": [
    "It is less than 50. Now we can draw it on the image:"
   ]
  },
  {
   "cell_type": "code",
   "execution_count": null,
   "metadata": {
    "collapsed": true
   },
   "outputs": [],
   "source": [
    "img2 = cv2.drawKeypoints(img,kp,None,(255,0,0),4)\n",
    "plt.imshow(img2),plt.show()"
   ]
  },
  {
   "cell_type": "markdown",
   "metadata": {},
   "source": [
    "Observing the below resulting image, we can infer SURF is more like a blob detector. It detects the white blobs on wings of butterfly. Feel free to test it with other images too.\n",
    "<img src=\"images/surf_kp1.jpg\">"
   ]
  },
  {
   "cell_type": "markdown",
   "metadata": {},
   "source": [
    "If you want to apply U-SURF, so that it won't find the orientation:"
   ]
  },
  {
   "cell_type": "code",
   "execution_count": null,
   "metadata": {
    "collapsed": true
   },
   "outputs": [],
   "source": [
    "# Check upright flag, if it False, set it to True\n",
    "print surf.upright"
   ]
  },
  {
   "cell_type": "markdown",
   "metadata": {},
   "source": [
    "False"
   ]
  },
  {
   "cell_type": "code",
   "execution_count": null,
   "metadata": {
    "collapsed": true
   },
   "outputs": [],
   "source": [
    "surf.upright = True"
   ]
  },
  {
   "cell_type": "code",
   "execution_count": null,
   "metadata": {
    "collapsed": true
   },
   "outputs": [],
   "source": [
    "# Recompute the feature points and draw it\n",
    "kp = surf.detect(img,None)\n",
    "img2 = cv2.drawKeypoints(img,kp,None,(255,0,0),4)\n",
    "plt.imshow(img2),plt.show()"
   ]
  },
  {
   "cell_type": "markdown",
   "metadata": {},
   "source": [
    "See the results below. All the orientations are shown in same direction. It is more faster than previous. If you are working on cases where orientation is not a problem (like panorama stitching) etc, this is better.\n",
    "<img src=\"images/surf_kp2.jpg\">\n"
   ]
  },
  {
   "cell_type": "markdown",
   "metadata": {},
   "source": [
    "Finally we check the descriptor size and change it to 128 if it is only 64-dim."
   ]
  },
  {
   "cell_type": "code",
   "execution_count": null,
   "metadata": {
    "collapsed": true
   },
   "outputs": [],
   "source": [
    "# Find size of descriptor\n",
    "print surf.descriptorSize()"
   ]
  },
  {
   "cell_type": "markdown",
   "metadata": {},
   "source": [
    "64"
   ]
  },
  {
   "cell_type": "code",
   "execution_count": null,
   "metadata": {
    "collapsed": true
   },
   "outputs": [],
   "source": [
    "# That means flag, \"extended\" is False.\n",
    "surf.extended"
   ]
  },
  {
   "cell_type": "markdown",
   "metadata": {},
   "source": [
    "False"
   ]
  },
  {
   "cell_type": "code",
   "execution_count": null,
   "metadata": {
    "collapsed": true
   },
   "outputs": [],
   "source": [
    "# So we make it to True to get 128-dim descriptors.\n",
    "surf.extended = True\n",
    "kp, des = surf.detectAndCompute(img,None)\n",
    "print surf.descriptorSize()"
   ]
  },
  {
   "cell_type": "markdown",
   "metadata": {},
   "source": [
    "128"
   ]
  },
  {
   "cell_type": "code",
   "execution_count": null,
   "metadata": {
    "collapsed": true
   },
   "outputs": [],
   "source": [
    "print des.shape"
   ]
  },
  {
   "cell_type": "markdown",
   "metadata": {},
   "source": [
    "(47,128)\n",
    "\n",
    "___"
   ]
  },
  {
   "cell_type": "markdown",
   "metadata": {},
   "source": [
    "## FAST Algorithm for Corner Detection\n",
    "We saw several feature detectors and many of them are really good. But when looking from a real-time application point of view, they are not fast enough. One best example would be SLAM (Simultaneous Localization and Mapping) mobile robot which have limited computational resources.\n",
    "\n",
    "As a solution to this, FAST (Features from Accelerated Segment Test) algorithm was proposed by Edward Rosten and Tom Drummond in their paper \"Machine learning for high-speed corner detection\" in 2006 (Later revised it in 2010). Refer original paper for more details (All the images are taken from original paper).\n",
    "\n",
    "This algorithm proved to be several times faster than other existing corner detectors. However it is not robust to high levels of noise. It is dependant on a threshold."
   ]
  },
  {
   "cell_type": "markdown",
   "metadata": {},
   "source": [
    "It is called as any other feature detector in OpenCV. If you want, you can specify the threshold, whether non-maximum suppression to be applied or not, the neighborhood to be used etc.\n",
    "\n",
    "For the neighborhood, three flags are defined, cv2.FAST_FEATURE_DETECTOR_TYPE_5_8, cv2.FAST_FEATURE_DETECTOR_TYPE_7_12 and cv2.FAST_FEATURE_DETECTOR_TYPE_9_16. Below is a simple code on how to detect and draw the FAST feature points."
   ]
  },
  {
   "cell_type": "code",
   "execution_count": null,
   "metadata": {
    "collapsed": true
   },
   "outputs": [],
   "source": [
    "import numpy as np\n",
    "import cv2\n",
    "from matplotlib import pyplot as plt\n",
    "\n",
    "img = cv2.imread('simple.jpg',0)\n",
    "\n",
    "# Initiate FAST object with default values\n",
    "fast = cv2.FastFeatureDetector()\n",
    "\n",
    "# find and draw the keypoints\n",
    "kp = fast.detect(img,None)\n",
    "img2 = cv2.drawKeypoints(img, kp, color=(255,0,0))\n",
    "\n",
    "# Print all default params\n",
    "print \"Threshold: \", fast.getInt('threshold')\n",
    "print \"nonmaxSuppression: \", fast.getBool('nonmaxSuppression')\n",
    "print \"neighborhood: \", fast.getInt('type')\n",
    "print \"Total Keypoints with nonmaxSuppression: \", len(kp)\n",
    "\n",
    "cv2.imwrite('fast_true.png',img2)\n",
    "\n",
    "# Disable nonmaxSuppression\n",
    "fast.setBool('nonmaxSuppression',0)\n",
    "kp = fast.detect(img,None)\n",
    "\n",
    "print \"Total Keypoints without nonmaxSuppression: \", len(kp)\n",
    "\n",
    "img3 = cv2.drawKeypoints(img, kp, color=(255,0,0))\n",
    "\n",
    "cv2.imwrite('fast_false.png',img3)"
   ]
  },
  {
   "cell_type": "markdown",
   "metadata": {},
   "source": [
    "The resulting image would look like the following. First image shows FAST with nonmaxSuppression and second one without nonmaxSuppression:\n",
    "<img src=\"images/fast_kp.jpg\">\n",
    "___\n",
    "\n"
   ]
  },
  {
   "cell_type": "markdown",
   "metadata": {
    "collapsed": true
   },
   "source": [
    "## Feature Matching\n",
    "___\n",
    "\n",
    "Here we will see Feature matching, which is in one way or the other similiar to template matching but as you will see gives impressive and better results than the latter.\n",
    "\n",
    "The process is the same, we take a template image, one that we want to find, and then we can search for this image in some another image. The difference between Feature Matching and Template Matching is that the images not need to be the same lighting, angle, rotation...etc. Just the features need to match up. Now to match these features we would be using a Brute-Force Matcher.\n",
    "\n",
    "Here is the template image of a notebook I would be using to test the Brute-Force Matcher.\n",
    "<img src=\"images/template.jpg\" width=\"169\" height=\"250\">\n",
    "\n",
    "And the two images to be searched are:\n",
    "\n",
    "<img  style=\"float:left;padding-left:10px;padding-right:10px;\" src=\"images/image1.jpg\" width=\"480\" height=\"270\"/> \n",
    "\n",
    "<img  style=\"float:left;padding-left:10px;padding-right:10px;\" src=\"images/image2.jpg\" width=\"480\" height=\"270\"/>"
   ]
  },
  {
   "cell_type": "markdown",
   "metadata": {},
   "source": [
    "I basically rearranged the notebooks to extensively test the code. As you will see neither the lighting conditions nor the position of the images matter while matching.\n",
    "\n",
    "Let's get started with the code.\n",
    "Initially as always, importing our modules and our test images:"
   ]
  },
  {
   "cell_type": "code",
   "execution_count": null,
   "metadata": {
    "collapsed": true
   },
   "outputs": [],
   "source": [
    "import numpy as np\n",
    "import cv2\n",
    "import matplotlib.pyplot as plt\n",
    "\n",
    "img1 = cv2.imread('template.jpg',0)\n",
    "#img2 = cv2.imread('image1.jpg',0)\n",
    "img2 = cv2.imread('image2.jpg',0)"
   ]
  },
  {
   "cell_type": "markdown",
   "metadata": {},
   "source": [
    "We will use the ORB (Oriented FAST and Rotated BRIEF) detector to find the key points and their descriptions. ORB which is a fast robust local feature detector. It has a similiar function as SIFT and SURF but unlike them, it isn't patented and is free to use."
   ]
  },
  {
   "cell_type": "code",
   "execution_count": null,
   "metadata": {
    "collapsed": true
   },
   "outputs": [],
   "source": [
    "orb = cv2.ORB_create()\n",
    "\n",
    "kp1, des1 = orb.detectAndCompute(img1,None)\n",
    "kp2, des2 = orb.detectAndCompute(img2,None)"
   ]
  },
  {
   "cell_type": "markdown",
   "metadata": {},
   "source": [
    "Now we match the features using the Brute Force Matcher. Brute-Force matcher takes the descriptor of one feature in first set and is matched with all other features in second set using some distance calculation. And the closest one is returned.\n",
    "\n",
    "For BF matcher, first we have to create the BFMatcher object using _cv2.BFMatcher()_. It takes two optional params.\n",
    "1. normType.\n",
    "It specifies the distance measurement to be used. By default, it is cv2.NORM_L2. It is good\n",
    "for SIFT, SURF etc (cv2.NORM_L1 is also there). For binary string based descriptors like ORB, BRIEF, BRISK etc,\n",
    "cv2.NORM_HAMMING should be used, which used Hamming distance as measurement. If ORB is using VTA_K ==\n",
    "3 or 4, cv2.NORM_HAMMING2 should be used.\n",
    "\n",
    "2. crossCheck \n",
    "It is a boolean variable - false by default. If it is true, Matcher returns only those matches with value (i,j) such that i-th descriptor in set A has j-th descriptor in set B as the best match and vice-versa.\n",
    "That is, the two features in both sets should match each other. It provides consistant result, and is a good alternative to\n",
    "ratio test proposed by D.Lowe in SIFT paper.\n",
    "\n",
    "Once it is created, two important methods are _BFMatcher.match()_ and _BFMatcher.knnMatch()_. First one returns the\n",
    "best match. Second method returns k best matches where k is specified by the user. It may be useful when we need to\n",
    "do additional work on that.\n",
    "\n",
    "We use the function <a href=\"http://docs.opencv.org/3.0.0/d4/d5d/group__features2d__draw.html#ga7421b3941617d7267e3f2311582f49e1\">cv2.drawMatches()</a>  to draw the matches. It stacks\n",
    "two images horizontally and draw lines from first image to second image showing best matches. We can and should limit the matches to be drawn to something around 10 or 20, The more number of matches specified, the more will be the computation time. Thus 20 matches seems to be a fair bet."
   ]
  },
  {
   "cell_type": "code",
   "execution_count": null,
   "metadata": {
    "collapsed": false
   },
   "outputs": [],
   "source": [
    "bf = cv2.BFMatcher(cv2.NORM_HAMMING, crossCheck=True) \n",
    "\n",
    "# Here we create matches of the descriptors and then we sort them based on their distances.\n",
    "matches = bf.match(des1,des2)\n",
    "matches = sorted(matches, key = lambda x:x.distance)\n",
    "\n",
    "# Then finally draw the first 20 matches and show the resulting images.\n",
    "img3 = cv2.drawMatches(img1,kp1,img2,kp2,matches[:20],None, flags=2)\n",
    "plt.imshow(img3)\n",
    "plt.show()"
   ]
  },
  {
   "cell_type": "markdown",
   "metadata": {},
   "source": [
    "The resulting outputs with the features matched are: \n",
    "\n",
    "<img src=\"captures/featuresmatched.png\">\n",
    "<img src=\"captures/featuresmatched2.png\">"
   ]
  },
  {
   "cell_type": "markdown",
   "metadata": {},
   "source": [
    "As you can see, barring a few feature points, most of the features were correctly matched and the template notebook image was effectively found in both the images irrespective of the different shadows, lightning, rotation and positions."
   ]
  },
  {
   "cell_type": "markdown",
   "metadata": {
    "collapsed": true
   },
   "source": [
    "___"
   ]
  }
 ],
 "metadata": {
  "kernelspec": {
   "display_name": "Python 2",
   "language": "python",
   "name": "python2"
  },
  "language_info": {
   "codemirror_mode": {
    "name": "ipython",
    "version": 2
   },
   "file_extension": ".py",
   "mimetype": "text/x-python",
   "name": "python",
   "nbconvert_exporter": "python",
   "pygments_lexer": "ipython2",
   "version": "2.7.11"
  }
 },
 "nbformat": 4,
 "nbformat_minor": 0
}
