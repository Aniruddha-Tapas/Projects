{
 "cells": [
  {
   "cell_type": "markdown",
   "metadata": {},
   "source": [
    "# Computational Photography : Image Denoising and Inpainting\n",
    "___\n",
    "_Computational photography or computational imaging refers to digital image capture and processing techniques that use digital computation instead of optical processes. Computational photography can improve the capabilities of a camera, or introduce features that were not possible  with film based photography_"
   ]
  },
  {
   "cell_type": "markdown",
   "metadata": {},
   "source": [
    "## Image Denoising\n",
    "In earlier examples, we have seen many image smoothing techniques like Gaussian Blurring, Median Blurring etc and they were good to some extent in removing small quantities of noise. In those techniques, we took a small neighbourhood around a pixel and did some operations like gaussian weighted average, median of the values etc to replace the central element. In short, noise removal at a pixel was local to its neighbourhood.\n",
    "\n",
    "Here we look at the Non-local Means Denoising algorithm to remove noise in the image and learn about functions included in openCV that can be directly used for Image Denoising."
   ]
  },
  {
   "cell_type": "markdown",
   "metadata": {},
   "source": [
    "OpenCV provides four variations of this technique.\n",
    "\n",
    "* <a href=\"http://docs.opencv.org/3.0.0/d1/d79/group__photo__denoise.html#ga76abf348c234cecd0faf3c42ef3dc715\">cv2.fastNlMeansDenoising()</a> - works with a single grayscale images\n",
    "\n",
    "* <a href=\"http://docs.opencv.org/3.0.0/d1/d79/group__photo__denoise.html#ga21abc1c8b0e15f78cd3eff672cb6c476\">cv2.fastNlMeansDenoisingColored()</a> - works with a color image.\n",
    "\n",
    "* <a href=\"http://docs.opencv.org/3.0.0/d1/d79/group__photo__denoise.html#gaf4421bf068c4d632ea7f0aa38e0bf172\">cv2.fastNlMeansDenoisingMulti()</a> - works with image sequence captured in short period of time (grayscale images)\n",
    "\n",
    "* <a href=\"http://docs.opencv.org/3.0.0/d1/d79/group__photo__denoise.html#gaa501e71f52fb2dc17ff8ca5e7d2d3619\">cv2.fastNlMeansDenoisingColoredMulti()</a> - same as above, but for color images.\n",
    "\n",
    "Common arguments are:\n",
    "\n",
    "* h : parameter deciding filter strength. Higher h value removes noise better, but removes details of image also. (10 is ok)\n",
    "* hForColorComponents : same as h, but for color images only. (normally same as h)\n",
    "* templateWindowSize : should be odd. (recommended 7)\n",
    "* searchWindowSize : should be odd. (recommended 21)"
   ]
  },
  {
   "cell_type": "markdown",
   "metadata": {},
   "source": [
    "___\n",
    "Here we will look at examples for colored images and image sequences:"
   ]
  },
  {
   "cell_type": "markdown",
   "metadata": {},
   "source": [
    "<a href=\"http://docs.opencv.org/3.0.0/d1/d79/group__photo__denoise.html#ga21abc1c8b0e15f78cd3eff672cb6c476\"> 2. cv2.fastNlMeansDenoisingColored()</a> : \n",
    "\n",
    "As mentioned above it is used to remove noise from color images. (Noise is expected to be gaussian). See the example below:"
   ]
  },
  {
   "cell_type": "code",
   "execution_count": 8,
   "metadata": {
    "collapsed": false
   },
   "outputs": [],
   "source": [
    "import numpy as np\n",
    "import cv2\n",
    "from matplotlib import pyplot as plt\n",
    "img = cv2.imread('images/noise1.jpg')\n",
    "dst = cv2.fastNlMeansDenoisingColored(img,None,10,10,7,21)\n",
    "plt.subplot(121),plt.imshow(img)\n",
    "plt.subplot(122),plt.imshow(dst)\n",
    "plt.show()"
   ]
  },
  {
   "cell_type": "markdown",
   "metadata": {},
   "source": [
    "After de-noising, the resulting image would look like:\n",
    "<img src=\"captures/denoise1.png\">\n",
    "___"
   ]
  },
  {
   "cell_type": "markdown",
   "metadata": {
    "collapsed": true
   },
   "source": [
    "<a href=\"http://docs.opencv.org/3.0.0/d1/d79/group__photo__denoise.html#gaf4421bf068c4d632ea7f0aa38e0bf172\">2. cv2.fastNlMeansDenoisingMulti()</a>\n",
    "\n",
    "Now we will apply the same method to a video. The first argument is the list of noisy frames. Second argument imgToDenoiseIndex specifies which frame we need to denoise, for that we pass the index of frame in our input list. Third is the temporalWindowSize which specifies the number of nearby frames to be used for denoising. It should be odd. In that case, a total of temporalWindowSize frames are used where central frame is the frame to be denoised. For example, you passed a list of 5 frames as input. Let imgToDenoiseIndex = 2 and temporalWindowSize = 3. Then frame-1, frame-2 and frame-3 are used to denoise frame-2. Let's see an example."
   ]
  },
  {
   "cell_type": "code",
   "execution_count": null,
   "metadata": {
    "collapsed": true
   },
   "outputs": [],
   "source": [
    "import numpy as np\n",
    "import cv2\n",
    "from matplotlib import pyplot as plt\n",
    "cap = cv2.VideoCapture('vtest.avi')\n",
    "# create a list of first 5 frames\n",
    "img = [cap.read()[1] for i in xrange(5)]\n",
    "# convert all to grayscale\n",
    "gray = [cv2.cvtColor(i, cv2.COLOR_BGR2GRAY) for i in img]\n",
    "# convert all to float64\n",
    "gray = [np.float64(i) for i in gray]\n",
    "# create a noise of variance 25\n",
    "noise = np.random.randn(*gray[1].shape)*10\n",
    "# Add this noise to images\n",
    "noisy = [i+noise for i in gray]\n",
    "# Convert back to uint8\n",
    "noisy = [np.uint8(np.clip(i,0,255)) for i in noisy]\n",
    "# Denoise 3rd frame considering all the 5 frames\n",
    "dst = cv2.fastNlMeansDenoisingMulti(noisy, 2, 5, None, 4, 7, 35)\n",
    "plt.subplot(131),plt.imshow(gray[2],'gray')\n",
    "plt.subplot(132),plt.imshow(noisy[2],'gray')\n",
    "plt.subplot(133),plt.imshow(dst,'gray')\n",
    "plt.show()"
   ]
  },
  {
   "cell_type": "markdown",
   "metadata": {},
   "source": [
    "It takes considerable amount of time for computation. In the result, first image is the original frame, second is the\n",
    "noisy one, third is the denoised image."
   ]
  },
  {
   "cell_type": "markdown",
   "metadata": {},
   "source": [
    "___"
   ]
  },
  {
   "cell_type": "markdown",
   "metadata": {},
   "source": [
    "## Image Inpainting\n",
    "\n",
    "Inpainting is used to remove small noises, strokes etc in old photographs. Almost everyone has encountered old degraded photos with some black spots, some strokes etc on it. How can we restore them back? We can’t simply erase them in a paint tool because it is will simply replace black structures with white structures which is of no use. In these cases, a technique called image inpainting is used.\n",
    "\n",
    "In the digital world, inpainting (also known as image interpolation or video interpolation) refers to the application of sophisticated algorithms to replace lost or corrupted parts of the image data (mainly small regions or to remove small defects)\n",
    "\n",
    "The basic idea is simple: Replace those bad marks with its neighbouring pixels so that it looks like the neigbourhood.\n",
    "\n",
    "We need to create a mask of same size as that of input image, where non-zero pixels corresponds to the area which\n",
    "is to be inpainted. Everything else is simple. My image is degraded with some black strokes (I added manually). I\n",
    "created a corresponding strokes with Paint tool."
   ]
  },
  {
   "cell_type": "code",
   "execution_count": 1,
   "metadata": {
    "collapsed": true
   },
   "outputs": [],
   "source": [
    "import numpy as np\n",
    "import cv2\n",
    "img = cv2.imread('messi_2.jpg')\n",
    "mask = cv2.imread('mask2.png',0)\n",
    "dst = cv2.inpaint(img,mask,3,cv2.INPAINT_TELEA)\n",
    "dst2 = cv2.inpaint(img,mask,3,cv2.INPAINT_NS)\n",
    "cv2.imshow('dst',dst)\n",
    "cv2.waitKey(0)\n",
    "cv2.destroyAllWindows()"
   ]
  },
  {
   "cell_type": "markdown",
   "metadata": {
    "collapsed": true
   },
   "source": [
    "The resulting output would look like this. First image shows degraded input. Second image is the mask. Third and the Fourth images are the result of the following two inpainting algorithms pre-defined in OpenCV:\n",
    "* INPAINT_TELEA Method by Alexandru Telea <a href = \"http://docs.opencv.org/3.0.0/d0/de3/citelist.html#CITEREF_Telea04\">[119\n",
    "]</a> \n",
    "* INPAINT_NS Navier-Stokes based method [Navier01]\n",
    "\n",
    "The function _cv2.inpaint()_ reconstructs the selected image area from the pixel near the area boundary. The function may be used to remove dust and scratches from a scanned photo, or to remove undesirable objects from still images or video.\n",
    "\n",
    "<img src=\"images/inpaint_result.jpg\">\n",
    "___"
   ]
  },
  {
   "cell_type": "code",
   "execution_count": null,
   "metadata": {
    "collapsed": true
   },
   "outputs": [],
   "source": []
  }
 ],
 "metadata": {
  "kernelspec": {
   "display_name": "Python 2",
   "language": "python",
   "name": "python2"
  },
  "language_info": {
   "codemirror_mode": {
    "name": "ipython",
    "version": 2
   },
   "file_extension": ".py",
   "mimetype": "text/x-python",
   "name": "python",
   "nbconvert_exporter": "python",
   "pygments_lexer": "ipython2",
   "version": "2.7.11"
  }
 },
 "nbformat": 4,
 "nbformat_minor": 0
}
